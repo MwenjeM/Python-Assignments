{
 "cells": [
  {
   "cell_type": "markdown",
   "id": "bfc9964e",
   "metadata": {},
   "source": [
    "# Things To Do\n"
   ]
  },
  {
   "cell_type": "markdown",
   "id": "a6cf3d44",
   "metadata": {},
   "source": [
    "# Table of Contents\n",
    "- [Task 4.1](#Task-4.1)\n",
    "- [Task 4.2](#Task-4.2)\n",
    "- [Task 6.1](#Task-6.1)\n",
    "- [Task 6.2](#Task-6.2)\n",
    "- [Task 6.3](#Task-6.3)\n"
   ]
  },
  {
   "cell_type": "markdown",
   "id": "83ea7afd",
   "metadata": {},
   "source": [
    "## Task 4.1\n",
    "Write conditional tests to compare two numbers and print if too low, high, or just right."
   ]
  },
  {
   "cell_type": "code",
   "execution_count": 21,
   "id": "cb64392e",
   "metadata": {},
   "outputs": [
    {
     "name": "stdout",
     "output_type": "stream",
     "text": [
      "too low\n"
     ]
    }
   ],
   "source": [
    "# Solution for Task 4.1\n",
    "secret = 7\n",
    "guess = 5\n",
    "if guess < secret:\n",
    "    print('too low')\n",
    "elif guess > secret:\n",
    "    print('too high')\n",
    "else:\n",
    "    print('just right')"
   ]
  },
  {
   "cell_type": "markdown",
   "id": "1ed48851",
   "metadata": {},
   "source": [
    "## Task 4.2\n",
    "Write if/else statements to determine which of the following matches the variables: cherry, pea, watermelon, or pumpkin."
   ]
  },
  {
   "cell_type": "code",
   "execution_count": 22,
   "id": "5822b9ad",
   "metadata": {},
   "outputs": [
    {
     "name": "stdout",
     "output_type": "stream",
     "text": [
      "pea\n"
     ]
    }
   ],
   "source": [
    "# Solution for Task 4.2\n",
    "small = True\n",
    "green = True\n",
    "if small and green:\n",
    "    print('pea')\n",
    "elif not small and green:\n",
    "    print('watermelon')\n",
    "elif small and not green:\n",
    "    print('cherry')\n",
    "else:\n",
    "    print('pumpkin')"
   ]
  },
  {
   "cell_type": "markdown",
   "id": "dde6256e",
   "metadata": {},
   "source": [
    "## Task 6.1\n",
    "Use a for loop to print the values of the list [3, 2, 1, 0]"
   ]
  },
  {
   "cell_type": "code",
   "execution_count": 23,
   "id": "a6440c50",
   "metadata": {},
   "outputs": [
    {
     "name": "stdout",
     "output_type": "stream",
     "text": [
      "3\n",
      "2\n",
      "1\n",
      "0\n"
     ]
    }
   ],
   "source": [
    "# Solution for Task 6.1\n",
    "for value in [3, 2, 1, 0]:\n",
    "    print(value)"
   ]
  },
  {
   "cell_type": "markdown",
   "id": "6a1e086d",
   "metadata": {},
   "source": [
    "## Task 6.2\n",
    "Increment number in a loop, compare it to guess_me, and print too low, found it, or oops."
   ]
  },
  {
   "cell_type": "code",
   "execution_count": 24,
   "id": "f0489e41",
   "metadata": {},
   "outputs": [
    {
     "name": "stdout",
     "output_type": "stream",
     "text": [
      "too low\n",
      "too low\n",
      "too low\n",
      "too low\n",
      "too low\n",
      "too low\n",
      "found it!\n"
     ]
    }
   ],
   "source": [
    "# Solution for Task 6.2\n",
    "guess_me = 7\n",
    "number = 1\n",
    "while True:\n",
    "    if number < guess_me:\n",
    "        print('too low')\n",
    "    elif number == guess_me:\n",
    "        print('found it!')\n",
    "        break\n",
    "    else:\n",
    "        print('oops')\n",
    "        break\n",
    "    number += 1"
   ]
  },
  {
   "cell_type": "markdown",
   "id": "cd45b400",
   "metadata": {},
   "source": [
    "## Task 6.3\n",
    "Iterate number over a range, compare it to guess_me, and print the result."
   ]
  },
  {
   "cell_type": "code",
   "execution_count": 25,
   "id": "0a4135f1",
   "metadata": {},
   "outputs": [
    {
     "name": "stdout",
     "output_type": "stream",
     "text": [
      "too low\n",
      "too low\n",
      "too low\n",
      "too low\n",
      "too low\n",
      "found it!\n"
     ]
    }
   ],
   "source": [
    "# Solution for Task 6.3\n",
    "guess_me = 5\n",
    "for number in range(10):\n",
    "    if number < guess_me:\n",
    "        print('too low')\n",
    "    elif number == guess_me:\n",
    "        print('found it!')\n",
    "        break\n",
    "    else:\n",
    "        print('oops')\n",
    "        break"
   ]
  }
 ],
 "metadata": {
  "kernelspec": {
   "display_name": "Python 3",
   "language": "python",
   "name": "python3"
  },
  "language_info": {
   "codemirror_mode": {
    "name": "ipython",
    "version": 3
   },
   "file_extension": ".py",
   "mimetype": "text/x-python",
   "name": "python",
   "nbconvert_exporter": "python",
   "pygments_lexer": "ipython3",
   "version": "3.11.4"
  }
 },
 "nbformat": 4,
 "nbformat_minor": 5
}
