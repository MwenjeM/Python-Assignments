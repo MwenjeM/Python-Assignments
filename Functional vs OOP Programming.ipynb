{
 "cells": [
  {
   "cell_type": "markdown",
   "id": "6975561d",
   "metadata": {},
   "source": [
    "# Sorting Array of 0s, 1s, and 2s"
   ]
  },
  {
   "cell_type": "code",
   "execution_count": 1,
   "id": "d42133df",
   "metadata": {},
   "outputs": [
    {
     "name": "stdout",
     "output_type": "stream",
     "text": [
      "Sorted Array: [0, 0, 1, 1, 2, 2]\n"
     ]
    }
   ],
   "source": [
    "\n",
    "class Solution:\n",
    "    # Function to sort an array of 0s, 1s, and 2s\n",
    "    def sort012(self, arr):\n",
    "        low, mid, high = 0, 0, len(arr) - 1\n",
    "\n",
    "        while mid <= high:\n",
    "            if arr[mid] == 0:\n",
    "                arr[low], arr[mid] = arr[mid], arr[low]\n",
    "                low += 1\n",
    "                mid += 1\n",
    "            elif arr[mid] == 1:\n",
    "                mid += 1\n",
    "            else:\n",
    "                arr[mid], arr[high] = arr[high], arr[mid]\n",
    "                high -= 1\n",
    "                \n",
    "# Example Testing for Sorting Array\n",
    "sol = Solution()\n",
    "arr = [0, 1, 2, 0, 1, 2]\n",
    "sol.sort012(arr)\n",
    "print(\"Sorted Array:\", arr)  # Expected Output: [0, 0, 1, 1, 2, 2]\n"
   ]
  },
  {
   "cell_type": "markdown",
   "id": "c17f1c05",
   "metadata": {},
   "source": [
    "# Binary Search"
   ]
  },
  {
   "cell_type": "code",
   "execution_count": 2,
   "id": "fd8dca53",
   "metadata": {},
   "outputs": [
    {
     "name": "stdout",
     "output_type": "stream",
     "text": [
      "Index of 4 : 3\n"
     ]
    }
   ],
   "source": [
    "\n",
    "class Solution:\n",
    "    # Binary search function to find the position of k in a sorted array\n",
    "    def binarysearch(self, arr, k):\n",
    "        low, high = 0, len(arr) - 1\n",
    "\n",
    "        while low <= high:\n",
    "            mid = low + (high - low) // 2\n",
    "\n",
    "            if arr[mid] == k:\n",
    "                while mid > 0 and arr[mid - 1] == k:\n",
    "                    mid -= 1\n",
    "                return mid\n",
    "            elif arr[mid] < k:\n",
    "                low = mid + 1\n",
    "            else:\n",
    "                high = mid - 1\n",
    "\n",
    "        return -1\n",
    "\n",
    "# Example Testing for Binary Search\n",
    "sol = Solution()\n",
    "arr = [1, 2, 3, 4, 5]\n",
    "k = 4\n",
    "print(\"Index of\", k, \":\", sol.binarysearch(arr, k))  # Expected Output: 3\n",
    "\n",
    "\n"
   ]
  }
 ],
 "metadata": {
  "kernelspec": {
   "display_name": "Python 3",
   "language": "python",
   "name": "python3"
  },
  "language_info": {
   "codemirror_mode": {
    "name": "ipython",
    "version": 3
   },
   "file_extension": ".py",
   "mimetype": "text/x-python",
   "name": "python",
   "nbconvert_exporter": "python",
   "pygments_lexer": "ipython3",
   "version": "3.11.4"
  }
 },
 "nbformat": 4,
 "nbformat_minor": 5
}
