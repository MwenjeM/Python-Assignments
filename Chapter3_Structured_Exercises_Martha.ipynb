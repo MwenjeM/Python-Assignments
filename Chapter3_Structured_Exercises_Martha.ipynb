{
 "cells": [
  {
   "cell_type": "markdown",
   "id": "dfd09ccf",
   "metadata": {},
   "source": [
    "# Chapter 3 - Things to Do"
   ]
  },
  {
   "cell_type": "markdown",
   "id": "93ce8ad0",
   "metadata": {},
   "source": [
    "**Table of Contents**\n",
    "- [3.1](#31---Number-of-Seconds-in-an-Hour)\n",
    "- [3.2](#32---Assign-Seconds-per-Hour)\n",
    "- [3.3](#33---Seconds-in-a-Day)\n",
    "- [3.4](#34---Assign-Seconds-per-Day)\n",
    "- [3.5](#35---Floating-Point-Division)\n",
    "- [3.6](#36---Integer-Division)"
   ]
  },
  {
   "cell_type": "markdown",
   "id": "9e1cbbc8",
   "metadata": {},
   "source": [
    "## 3.1 - Number of Seconds in an Hour"
   ]
  },
  {
   "cell_type": "code",
   "execution_count": 47,
   "id": "6da188dd",
   "metadata": {},
   "outputs": [
    {
     "name": "stdout",
     "output_type": "stream",
     "text": [
      "Seconds per hour:  3600\n"
     ]
    }
   ],
   "source": [
    "seconds_per_hour: int = 60\n",
    "minutes_per_hour: int = 60\n",
    "print('Seconds per hour: ', seconds_per_hour * minutes_per_hour )"
   ]
  },
  {
   "cell_type": "markdown",
   "id": "e68e7340",
   "metadata": {},
   "source": [
    "## 3.2 - Assign Seconds in an Hour"
   ]
  },
  {
   "cell_type": "code",
   "execution_count": 48,
   "id": "3b02c806",
   "metadata": {},
   "outputs": [],
   "source": [
    "seconds_per_hour: int = 3600"
   ]
  },
  {
   "cell_type": "markdown",
   "id": "e863d02f",
   "metadata": {},
   "source": [
    "## 3.3 - Seconds in a Day\n"
   ]
  },
  {
   "cell_type": "code",
   "execution_count": 49,
   "id": "124ce18a",
   "metadata": {},
   "outputs": [
    {
     "name": "stdout",
     "output_type": "stream",
     "text": [
      "Seconds per Day: 86400\n"
     ]
    }
   ],
   "source": [
    "hours_per_day: int = 24\n",
    "print('Seconds per Day:', seconds_per_hour * hours_per_day)\n"
   ]
  },
  {
   "cell_type": "markdown",
   "id": "faf5247e",
   "metadata": {},
   "source": [
    "## 3.4 - Assign Seconds per Day"
   ]
  },
  {
   "cell_type": "code",
   "execution_count": 50,
   "id": "bb692141",
   "metadata": {},
   "outputs": [],
   "source": [
    "seconds_per_day: int = 86400"
   ]
  },
  {
   "cell_type": "markdown",
   "id": "1d2d52e9",
   "metadata": {},
   "source": [
    "## 3.5 - Floating-Point Division\n"
   ]
  },
  {
   "cell_type": "code",
   "execution_count": 51,
   "id": "b7a1de8c",
   "metadata": {},
   "outputs": [
    {
     "name": "stdout",
     "output_type": "stream",
     "text": [
      "Floating-Point Division: 24.0\n"
     ]
    }
   ],
   "source": [
    "print('Floating-Point Division:', seconds_per_day / seconds_per_hour)"
   ]
  },
  {
   "cell_type": "markdown",
   "id": "bca0302e",
   "metadata": {},
   "source": [
    "## 3.6 - Integer Division"
   ]
  },
  {
   "cell_type": "code",
   "execution_count": 52,
   "id": "50681877",
   "metadata": {},
   "outputs": [
    {
     "name": "stdout",
     "output_type": "stream",
     "text": [
      "Interger Division: 24\n"
     ]
    }
   ],
   "source": [
    "print('Interger Division:', seconds_per_day// seconds_per_hour)"
   ]
  }
 ],
 "metadata": {
  "kernelspec": {
   "display_name": "Python 3",
   "language": "python",
   "name": "python3"
  },
  "language_info": {
   "codemirror_mode": {
    "name": "ipython",
    "version": 3
   },
   "file_extension": ".py",
   "mimetype": "text/x-python",
   "name": "python",
   "nbconvert_exporter": "python",
   "pygments_lexer": "ipython3",
   "version": "3.11.4"
  }
 },
 "nbformat": 4,
 "nbformat_minor": 5
}
